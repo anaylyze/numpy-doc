{
 "cells": [
  {
   "cell_type": "code",
   "execution_count": 2,
   "id": "cd89868d-cf4d-4854-8e78-feb36ea02dac",
   "metadata": {},
   "outputs": [],
   "source": [
    "import numpy as np"
   ]
  },
  {
   "cell_type": "code",
   "execution_count": 4,
   "id": "a34a11b0-1f08-475d-a274-e3a17521caca",
   "metadata": {},
   "outputs": [
    {
     "name": "stdout",
     "output_type": "stream",
     "text": [
      "[1 2 3 4 5]\n"
     ]
    }
   ],
   "source": [
    "a = np.array([1,2,3,4,5])\n",
    "print(a) #1d array"
   ]
  },
  {
   "cell_type": "code",
   "execution_count": 6,
   "id": "6bb7555a-961f-4b0b-8ef7-1059cab77826",
   "metadata": {},
   "outputs": [
    {
     "name": "stdout",
     "output_type": "stream",
     "text": [
      "[[3.2 1.5 6.9]\n",
      " [8.7 4.1 7.3]]\n"
     ]
    }
   ],
   "source": [
    "b = np.array([[3.2,1.5,6.9],[8.7,4.1,7.3]])\n",
    "print(b) #2d array"
   ]
  },
  {
   "cell_type": "code",
   "execution_count": 12,
   "id": "c870f81c-c57b-4397-ac5a-38fe4ea99215",
   "metadata": {},
   "outputs": [
    {
     "name": "stdout",
     "output_type": "stream",
     "text": [
      "1\n",
      "2\n"
     ]
    }
   ],
   "source": [
    "# Get Dimension\n",
    "print(a.ndim)\n",
    "print(b.ndim)"
   ]
  },
  {
   "cell_type": "code",
   "execution_count": 16,
   "id": "e0fe0768-f0e2-46b9-97a2-ef52f43715da",
   "metadata": {},
   "outputs": [
    {
     "name": "stdout",
     "output_type": "stream",
     "text": [
      "(5,)\n",
      "(2, 3)\n"
     ]
    }
   ],
   "source": [
    "# Get Shape --> tells us the no. of rows and columns \n",
    "print(a.shape)\n",
    "print(b.shape)"
   ]
  },
  {
   "cell_type": "code",
   "execution_count": 22,
   "id": "d8d3bae2-7c60-4110-9433-2405f740265e",
   "metadata": {},
   "outputs": [
    {
     "name": "stdout",
     "output_type": "stream",
     "text": [
      "int32\n",
      "int16\n"
     ]
    }
   ],
   "source": [
    "# Get Type --> tells us the data type of the array, by default it is 'int32'\n",
    "print(a.dtype) #by default dtype will be int 32 in a\n",
    "c = np.array([1,2,3], dtype='int16')\n",
    "print(c.dtype)"
   ]
  },
  {
   "cell_type": "code",
   "execution_count": 30,
   "id": "b39a2e35-ba31-4df6-a768-52ffbdba6862",
   "metadata": {},
   "outputs": [
    {
     "name": "stdout",
     "output_type": "stream",
     "text": [
      "4\n",
      "8\n",
      "2\n"
     ]
    }
   ],
   "source": [
    "# Get size --> gives us how many bytes it will take as int32 take 4 bytes and int 16 take 2 byte\n",
    "print(a.itemsize)\n",
    "print(b.itemsize)\n",
    "print(c.itemsize) "
   ]
  },
  {
   "cell_type": "code",
   "execution_count": 40,
   "id": "5efd84f2-ecdf-4f42-be67-db9cec21d423",
   "metadata": {},
   "outputs": [
    {
     "name": "stdout",
     "output_type": "stream",
     "text": [
      "5\n",
      "6\n",
      "20\n",
      "20\n",
      "48\n"
     ]
    }
   ],
   "source": [
    "# get total size\n",
    "print(a.size) # .size tells us the total no. of elements in array\n",
    "print(b.size)\n",
    "\n",
    "# for the total size we can multiply .size and .itemsize or use .nbbytes\n",
    "print(a.size*a.itemsize)\n",
    "print(a.nbytes)\n",
    "\n",
    "print(b.nbytes)"
   ]
  },
  {
   "cell_type": "code",
   "execution_count": 100,
   "id": "42f9415e-5c78-4795-904b-9602efb64877",
   "metadata": {},
   "outputs": [
    {
     "name": "stdout",
     "output_type": "stream",
     "text": [
      "[1 2 3 4 5 6]\n",
      "The dimension of a is 1\n",
      "The no. of rows and columns in a are (6,)\n",
      "The data type of a is int32\n",
      "a take almost 4 bytes\n",
      "Total size is 24\n"
     ]
    }
   ],
   "source": [
    "a = np.array([1,2,3,4,5,6])\n",
    "print(a)\n",
    "print(\"The dimension of a is\",a.ndim)\n",
    "print(\"The no. of rows and columns in a are\",a.shape)\n",
    "print(\"The data type of a is\",a.dtype)\n",
    "print(f\"a take almost {a.itemsize} bytes\")\n",
    "print(\"Total size is\",a.nbytes)"
   ]
  },
  {
   "cell_type": "code",
   "execution_count": 98,
   "id": "c7d49b5e-fba4-4e5a-a86d-46c690b8048a",
   "metadata": {},
   "outputs": [
    {
     "name": "stdout",
     "output_type": "stream",
     "text": [
      "[[[1 2]\n",
      "  [3 4]\n",
      "  [5 6]]]\n",
      "The dimension of c is 3\n",
      "The no. of rows and columns in c are  (1, 3, 2)\n",
      "The data type is int16\n",
      "c takes almost 2 bytes\n",
      "Total size is  12\n"
     ]
    }
   ],
   "source": [
    "c = np.array([[[1,2],[3,4],[5,6]]], dtype='int16')\n",
    "print(c)\n",
    "print(\"The dimension of c is\",c.ndim)\n",
    "print(\"The no. of rows and columns in c are \",c.shape)\n",
    "print(\"The data type is\",c.dtype)\n",
    "print(f\"c takes almost {c.itemsize} bytes\")\n",
    "print(\"Total size is \",c.size*c.itemsize)"
   ]
  },
  {
   "cell_type": "code",
   "execution_count": 104,
   "id": "9a11dfdc-3449-44c0-a9b7-797df872df59",
   "metadata": {},
   "outputs": [
    {
     "name": "stdout",
     "output_type": "stream",
     "text": [
      "[[1 2 3 4]\n",
      " [5 6 7 8]\n",
      " [9 0 6 3]]\n",
      "The dimension of b is 2\n",
      "The no. of rows and columns in b are (1, 3, 2)\n",
      "The data type is int8\n",
      "b takes almost 1 byte\n",
      "Total size is 12\n"
     ]
    }
   ],
   "source": [
    "b = np.array([[1,2,3,4],[5,6,7,8],[9,0,6,3]], dtype = 'int8')\n",
    "print(b)\n",
    "print(\"The dimension of b is\",b.ndim)\n",
    "print(\"The no. of rows and columns in b are\",c.shape)\n",
    "print(\"The data type is\",b.dtype)\n",
    "print(f\"b takes almost {b.itemsize} byte\")\n",
    "print(\"Total size is\",b.size*b.itemsize)"
   ]
  }
 ],
 "metadata": {
  "kernelspec": {
   "display_name": "Python 3 (ipykernel)",
   "language": "python",
   "name": "python3"
  },
  "language_info": {
   "codemirror_mode": {
    "name": "ipython",
    "version": 3
   },
   "file_extension": ".py",
   "mimetype": "text/x-python",
   "name": "python",
   "nbconvert_exporter": "python",
   "pygments_lexer": "ipython3",
   "version": "3.12.7"
  }
 },
 "nbformat": 4,
 "nbformat_minor": 5
}
