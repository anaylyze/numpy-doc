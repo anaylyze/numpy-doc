{
 "cells": [
  {
   "cell_type": "code",
   "execution_count": 4,
   "id": "68c186f6-c9b0-49bc-8e6f-13f9d6d3355f",
   "metadata": {},
   "outputs": [
    {
     "name": "stdout",
     "output_type": "stream",
     "text": [
      "[[ 1  2  3  4  5]\n",
      " [ 6  7  8  9 10]]\n"
     ]
    }
   ],
   "source": [
    "# Accessing or changing specific elements,rows,columns etc.\n",
    "\n",
    "import numpy as np\n",
    "\n",
    "a = np.array([[1,2,3,4,5],[6,7,8,9,10]])\n",
    "print(a)"
   ]
  },
  {
   "cell_type": "code",
   "execution_count": 123,
   "id": "824b894c-071c-426c-a7c3-f103fd028617",
   "metadata": {},
   "outputs": [
    {
     "data": {
      "text/plain": [
       "9"
      ]
     },
     "execution_count": 123,
     "metadata": {},
     "output_type": "execute_result"
    }
   ],
   "source": [
    "# Get a specific element (r,c)\n",
    "\n",
    "# to get 9 from an array\n",
    "a[1,3] #the indexing will start from 0 just like in lists"
   ]
  },
  {
   "cell_type": "code",
   "execution_count": 135,
   "id": "82d253c2-cd61-4035-86ed-248bee7bcf58",
   "metadata": {},
   "outputs": [
    {
     "name": "stdout",
     "output_type": "stream",
     "text": [
      "[ 6  7 21  9 10]\n",
      "[4 9]\n"
     ]
    }
   ],
   "source": [
    "# Get a specific row or column\n",
    "\n",
    "# to get the 2nd row and the 4th column\n",
    "print(a[1,:])\n",
    "print(a[:,3])"
   ]
  },
  {
   "cell_type": "code",
   "execution_count": 20,
   "id": "00a5b7ac-3b87-4733-a0f1-2f36b1ff3869",
   "metadata": {},
   "outputs": [
    {
     "name": "stdout",
     "output_type": "stream",
     "text": [
      "[1 3 5]\n",
      "[1 3]\n"
     ]
    }
   ],
   "source": [
    "# Get the elements and also using the concept of stepsize [start:end:stepsize]\n",
    "\n",
    "# get the [1,3,5] elements\n",
    "\n",
    "print(a[0,0:5:2]) #starting from 1 so 0th index ending at 5 so we'll take (index of 5)+1 and a stepsize of 2 as we want to alternate\n",
    "print(a[0, 0:-1:2]) # we can also do negative indexing"
   ]
  },
  {
   "cell_type": "code",
   "execution_count": 47,
   "id": "6e832fae-946c-4ec3-8683-35ddb8d11880",
   "metadata": {},
   "outputs": [
    {
     "name": "stdout",
     "output_type": "stream",
     "text": [
      "[[ 1  2  5  4 69]\n",
      " [ 6  7 21  9 10]]\n",
      "[[ 1  2  5  4 69]\n",
      " [ 6  7 21  9 10]]\n"
     ]
    }
   ],
   "source": [
    "# to change elements in an array\n",
    "\n",
    "a[0,4] = 69\n",
    "print(a)\n",
    "\n",
    "# can change an entire row or column as well\n",
    "a[:,2] = [5,21]\n",
    "print(a) #these changes are permanent"
   ]
  },
  {
   "cell_type": "code",
   "execution_count": 87,
   "id": "7d875783-e110-4b88-a486-5a6835a744eb",
   "metadata": {},
   "outputs": [
    {
     "name": "stdout",
     "output_type": "stream",
     "text": [
      "[[[1 2]\n",
      "  [3 4]]\n",
      "\n",
      " [[5 6]\n",
      "  [7 8]]]\n",
      "6\n",
      "3\n",
      "[3 4]\n",
      "[5 7]\n"
     ]
    }
   ],
   "source": [
    "# 3d example\n",
    "\n",
    "b = np.array([[[1,2],[3,4]],[[5,6],[7,8]]])\n",
    "print(b) \n",
    "\n",
    "# get a specific element, for example -> 6 and 3\n",
    "print(b[1,0,1])\n",
    "print(b[0,1,0])\n",
    "\n",
    "# get a row or column, for example -> [3,4] and [5,7]\n",
    "print(b[0,1,:])\n",
    "print(b[1,:,0])"
   ]
  },
  {
   "cell_type": "code",
   "execution_count": 93,
   "id": "3f2212f6-b134-44f0-af20-d7eb53197e16",
   "metadata": {},
   "outputs": [
    {
     "name": "stdout",
     "output_type": "stream",
     "text": [
      "[[[9 7]\n",
      "  [5 3]]\n",
      "\n",
      " [[5 6]\n",
      "  [7 8]]]\n"
     ]
    }
   ],
   "source": [
    "# replacing arrays\n",
    "\n",
    "# replace [[1,2],[3,4]]\n",
    "b[0,:,:] = [[9,7],[5,3]]\n",
    "print(b)"
   ]
  },
  {
   "cell_type": "code",
   "execution_count": null,
   "id": "88cb3134-835b-4d77-a5db-d5ba8601be61",
   "metadata": {},
   "outputs": [],
   "source": []
  }
 ],
 "metadata": {
  "kernelspec": {
   "display_name": "Python 3 (ipykernel)",
   "language": "python",
   "name": "python3"
  },
  "language_info": {
   "codemirror_mode": {
    "name": "ipython",
    "version": 3
   },
   "file_extension": ".py",
   "mimetype": "text/x-python",
   "name": "python",
   "nbconvert_exporter": "python",
   "pygments_lexer": "ipython3",
   "version": "3.12.7"
  }
 },
 "nbformat": 4,
 "nbformat_minor": 5
}
