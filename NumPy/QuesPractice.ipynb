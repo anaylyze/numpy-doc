{
 "cells": [
  {
   "cell_type": "code",
   "execution_count": 28,
   "id": "0dbaf861-744a-4806-aa9b-9cfb04a4bca3",
   "metadata": {},
   "outputs": [
    {
     "name": "stdout",
     "output_type": "stream",
     "text": [
      "[ 1  2  3  4  5  6  7  8  9 10] \n",
      "\n",
      "[[0. 0. 0.]\n",
      " [0. 0. 0.]\n",
      " [0. 0. 0.]] \n",
      "\n",
      "[[1. 0. 0. 0.]\n",
      " [0. 1. 0. 0.]\n",
      " [0. 0. 1. 0.]\n",
      " [0. 0. 0. 1.]] \n",
      "\n",
      "[1 2 3 4] \n",
      "\n",
      "[[10 33 11 10]\n",
      " [15 27 34 44]\n",
      " [38 14 17 43]]\n"
     ]
    }
   ],
   "source": [
    "import numpy as np\n",
    "\n",
    "# Create a 1D NumPy array with numbers from 1 to 10.\n",
    "a = np.array([1,2,3,4,5,6,7,8,9,10])\n",
    "print(a,'\\n')\n",
    "\n",
    "# Create a 3x3 NumPy array filled with zeros.\n",
    "b = np.zeros((3,3))\n",
    "print(b,'\\n')\n",
    "\n",
    "# Create a 4x4 identity matrix using NumPy.\n",
    "c = np.identity(4)\n",
    "print(c,'\\n')\n",
    "\n",
    "# Convert a Python list [1, 2, 3, 4] into a NumPy array.\n",
    "list1 = [1,2,3,4]\n",
    "array1 = np.array(list1)\n",
    "print(array1,'\\n')\n",
    "\n",
    "# Create a 2D array of shape (3, 4) with random integers between 10 and 50.\n",
    "d = np.random.randint(10,50, size=(3,4))\n",
    "print(d)"
   ]
  },
  {
   "cell_type": "code",
   "execution_count": 30,
   "id": "74c7d98c-2e38-402f-ad22-b3da1f6dd6b7",
   "metadata": {},
   "outputs": [
    {
     "name": "stdout",
     "output_type": "stream",
     "text": [
      "[[4 5 6]\n",
      " [7 8 9]]\n"
     ]
    }
   ],
   "source": [
    "# Extract the last two rows of the following array\n",
    "arr = np.array([[1, 2, 3], \n",
    "                [4, 5, 6], \n",
    "                [7, 8, 9]])\n",
    "print(arr[1:3,:])"
   ]
  },
  {
   "cell_type": "code",
   "execution_count": 62,
   "id": "d4aebf50-8959-4a06-9343-3e8d431fdbd8",
   "metadata": {},
   "outputs": [
    {
     "name": "stdout",
     "output_type": "stream",
     "text": [
      "[[10  1 30]\n",
      " [40  1 60]\n",
      " [70  1 90]]\n"
     ]
    }
   ],
   "source": [
    "# Replace the second column of the following array with all ones:\n",
    "arr1 = np.array([[10, 20, 30], \n",
    "                [40, 50, 60], \n",
    "                [70, 80, 90]])\n",
    "arr1[:,1] = 1\n",
    "print(arr1)"
   ]
  },
  {
   "cell_type": "code",
   "execution_count": 72,
   "id": "0d7fc530-72ad-4c87-8536-2a85b17c30b3",
   "metadata": {},
   "outputs": [
    {
     "data": {
      "text/plain": [
       "array([[70,  1, 90],\n",
       "       [40,  1, 60],\n",
       "       [10,  1, 30]])"
      ]
     },
     "execution_count": 72,
     "metadata": {},
     "output_type": "execute_result"
    }
   ],
   "source": [
    "# Reverse the rows and columns of a 2D array.\n",
    "arr1[::-1]"
   ]
  },
  {
   "cell_type": "code",
   "execution_count": 84,
   "id": "3c9234c9-1a44-4efa-9056-e77c0914af5f",
   "metadata": {},
   "outputs": [
    {
     "name": "stdout",
     "output_type": "stream",
     "text": [
      "[45 45 45 45 45]\n",
      "[32 98 61 47 22]\n",
      "[ 77 143 106  92  67]\n"
     ]
    }
   ],
   "source": [
    "# Add two 1D arrays of shape (5,) element-wise.\n",
    "a = np.full((5,),45)\n",
    "print(a)\n",
    "b = np.random.randint(1,100,size=(5,))\n",
    "print(b)\n",
    "print(a+b)"
   ]
  },
  {
   "cell_type": "code",
   "execution_count": 90,
   "id": "31032285-7999-4d26-aee5-427d32d0cd9d",
   "metadata": {},
   "outputs": [
    {
     "name": "stdout",
     "output_type": "stream",
     "text": [
      "[[4050 2300 1380]\n",
      " [ 396 4600 4620]\n",
      " [ 438 2752 1872]]\n",
      "[[ 5088  5559  7494]\n",
      " [ 4098  8923 12846]\n",
      " [ 7866  7590 10092]]\n"
     ]
    }
   ],
   "source": [
    "# Multiply two 2D arrays of shape (3, 3) using both element-wise multiplication and matrix multiplication.\n",
    "c = np.random.randint(1,100,size=(3,3))\n",
    "d = np.random.randint(1,100,size=(3,3))\n",
    "print(c*d)\n",
    "print(np.matmul(c,d))"
   ]
  },
  {
   "cell_type": "code",
   "execution_count": 98,
   "id": "0e3bddde-b86c-4ce4-8e54-71d75618b9a2",
   "metadata": {},
   "outputs": [
    {
     "name": "stdout",
     "output_type": "stream",
     "text": [
      "MEAN:  5.5\n",
      "MEDIAN: 5.5\n",
      "STANDARD DEVIATION: 2.8722813232690143\n"
     ]
    }
   ],
   "source": [
    "z = np.array([1,2,3,4,5,6,7,8,9,10])\n",
    "print(\"MEAN: \",np.mean(z))\n",
    "print('MEDIAN:',np.median(z))\n",
    "print('STANDARD DEVIATION:',np.std(z))"
   ]
  },
  {
   "cell_type": "code",
   "execution_count": 118,
   "id": "1167be2a-6d51-4b49-bcbd-afe21c527d82",
   "metadata": {},
   "outputs": [
    {
     "name": "stdout",
     "output_type": "stream",
     "text": [
      "[[ 1  2  3  4]\n",
      " [ 5  6  7  8]\n",
      " [ 9 10 11 12]]\n"
     ]
    }
   ],
   "source": [
    "# Reshape a 1D array of size 12 into a 3x4 2D array.\n",
    "x = np.array([1,2,3,4,5,6,7,8,9,10,11,12])\n",
    "y = x.reshape((3,4))\n",
    "print(y)"
   ]
  },
  {
   "cell_type": "code",
   "execution_count": 132,
   "id": "c71e27b8-6399-4f0c-8727-ad4fb5790f1e",
   "metadata": {},
   "outputs": [
    {
     "name": "stdout",
     "output_type": "stream",
     "text": [
      "[47 72 25 64 33 75]\n"
     ]
    }
   ],
   "source": [
    "# Flatten a 2D array into a 1D array.\n",
    "before = np.random.randint(1,100,size=(2,3))\n",
    "after = before.reshape((6,))\n",
    "print(after)"
   ]
  },
  {
   "cell_type": "code",
   "execution_count": 144,
   "id": "c442d340-eded-4f8b-8119-5c85bfd2230a",
   "metadata": {},
   "outputs": [
    {
     "name": "stdout",
     "output_type": "stream",
     "text": [
      "[[ 6  7  8]\n",
      " [ 9 10 11]\n",
      " [12 13 14]] \n",
      "\n",
      "[[ 32]\n",
      " [108]\n",
      " [135]\n",
      " [ 77]]\n"
     ]
    }
   ],
   "source": [
    "# Create a 2D array of shape (3, 3) and add 5 to each element.\n",
    "a = np.array([[1,2,3],\n",
    "            [4,5,6],\n",
    "            [7,8,9]])\n",
    "print(a+5,'\\n')\n",
    "\n",
    "# Multiply a 2D array of shape (4, 3) by a 1D array of shape (3,).\n",
    "b = np.array([[1,2,3],\n",
    "             [5,6,7],\n",
    "             [8,9,0],\n",
    "             [4,2,9]])\n",
    "c = np.array([[9,],\n",
    "            [7,],\n",
    "            [3]])\n",
    "print(np.matmul(b,c))"
   ]
  },
  {
   "cell_type": "code",
   "execution_count": 148,
   "id": "5343329f-f7db-48d8-9478-1a6651d818c7",
   "metadata": {},
   "outputs": [
    {
     "name": "stdout",
     "output_type": "stream",
     "text": [
      "[ 2  4  6  8 10 12 14 16 18 20]\n"
     ]
    }
   ],
   "source": [
    "# Create an array of integers from 1 to 20. Extract only the even numbers using Boolean indexing.\n",
    "w = np.array([1,2,3,4,5,6,7,8,9,10,11,12,13,14,15,16,17,18,19,20])\n",
    "print(w[1:20:2])"
   ]
  },
  {
   "cell_type": "code",
   "execution_count": 150,
   "id": "ecc528da-2bd0-4450-a092-c7f2873d4262",
   "metadata": {},
   "outputs": [
    {
     "name": "stdout",
     "output_type": "stream",
     "text": [
      "[0 2 0 4 0]\n"
     ]
    }
   ],
   "source": [
    "# Replace all negative numbers in the array [-1, 2, -3, 4, -5] with zero.\n",
    "array = np.array([-1,2,-3,4,-5])\n",
    "array[array<0] = 0\n",
    "print(array)"
   ]
  },
  {
   "cell_type": "code",
   "execution_count": 154,
   "id": "72681da6-faf6-44e7-902a-65ffecc5654a",
   "metadata": {},
   "outputs": [
    {
     "name": "stdout",
     "output_type": "stream",
     "text": [
      "[[1 1 1 1 0]\n",
      " [1 0 1 1 1]\n",
      " [1 1 0 1 0]\n",
      " [1 1 0 0 1]\n",
      " [1 1 0 1 0]]\n"
     ]
    }
   ],
   "source": [
    "# Create a 5x5 array with random numbers. Normalize the array so all values are between 0 and 1.\n",
    "ar = np.random.randint(0,2,size=(5,5))\n",
    "print(ar)"
   ]
  },
  {
   "cell_type": "code",
   "execution_count": 162,
   "id": "0b5f01ed-b77f-408b-ae56-9c403836ed8a",
   "metadata": {},
   "outputs": [
    {
     "name": "stdout",
     "output_type": "stream",
     "text": [
      "eigenvalues:  [3. 2.]\n",
      "eigenvectors: \n",
      " [[0.89442719 0.70710678]\n",
      " [0.4472136  0.70710678]]\n"
     ]
    }
   ],
   "source": [
    "# Find the eigenvalues and eigenvectors of a 2x2 matrix.\n",
    "mat = np.array([[4,-2],\n",
    "               [1,1]])\n",
    "\n",
    "eigenvalues, eigenvectors = np.linalg.eig(mat)\n",
    "print(\"eigenvalues: \",eigenvalues)\n",
    "print(\"eigenvectors: \\n\",eigenvectors)"
   ]
  },
  {
   "cell_type": "code",
   "execution_count": null,
   "id": "983c3ed0-f1bb-4257-91cd-c119232f7f5e",
   "metadata": {},
   "outputs": [],
   "source": []
  }
 ],
 "metadata": {
  "kernelspec": {
   "display_name": "Python 3 (ipykernel)",
   "language": "python",
   "name": "python3"
  },
  "language_info": {
   "codemirror_mode": {
    "name": "ipython",
    "version": 3
   },
   "file_extension": ".py",
   "mimetype": "text/x-python",
   "name": "python",
   "nbconvert_exporter": "python",
   "pygments_lexer": "ipython3",
   "version": "3.12.7"
  }
 },
 "nbformat": 4,
 "nbformat_minor": 5
}
