{
 "cells": [
  {
   "cell_type": "markdown",
   "id": "ad44ced3-4881-4cae-9a8f-5267df684208",
   "metadata": {},
   "source": [
    "#### LOAD DATA FROM FILE"
   ]
  },
  {
   "cell_type": "code",
   "execution_count": null,
   "id": "af3ca3f8-0d43-44a5-8511-d465dbc913ae",
   "metadata": {},
   "outputs": [],
   "source": [
    "import numpy as np\n",
    "filedata = np.genfromtxt('NumPy/data.txt', delimiter=',') #delimeter acts as the sperator btw the elements\n",
    "filedata.astype('int32') #this makes a copy of actual filedata as the og is in float \n",
    "# if we want to change the actual file we can just do\n",
    "filedata = filedata.astype('int32')"
   ]
  },
  {
   "cell_type": "markdown",
   "id": "348365db-3bb6-4e03-ac4f-88c7b577edda",
   "metadata": {},
   "source": [
    "#### Boolean Masking and Advanced Indexing"
   ]
  },
  {
   "cell_type": "code",
   "execution_count": null,
   "id": "cd0928e9-d4d5-4836-98fb-ea39c0bf6cd6",
   "metadata": {},
   "outputs": [],
   "source": [
    "# we can find how many values are greater than or an operation than 50 in filedata by\n",
    "\n",
    "filedata > 50\n",
    "\n",
    "# we can also use operators for multiple cases\n",
    "((filedata>50) & (filedata<100))\n",
    "# OR\n",
    "(~(filedata>50) & (filedata<100))\n",
    "\n",
    "# we can also extract the values in an array by indexing\n",
    "filedata[filedata>69]"
   ]
  },
  {
   "cell_type": "code",
   "execution_count": 28,
   "id": "9f6f16a4-26db-4bcf-8a14-f5bf07f03989",
   "metadata": {},
   "outputs": [
    {
     "data": {
      "text/plain": [
       "array([2, 4, 9])"
      ]
     },
     "execution_count": 28,
     "metadata": {},
     "output_type": "execute_result"
    }
   ],
   "source": [
    "# we can index with a list in NumPy \n",
    "# for example we want 2,6,9 from a list\n",
    "\n",
    "a = np.array([1,2,3,4,5,6,7,8,9])\n",
    "a[[1,3,-1]]"
   ]
  },
  {
   "cell_type": "code",
   "execution_count": null,
   "id": "6ec0b735-8aed-4137-a798-0f0d45d0cd22",
   "metadata": {},
   "outputs": [],
   "source": [
    "# we can find out if any values in filedata were >50 \n",
    "np.any(filedata > 50, axis=0)"
   ]
  },
  {
   "cell_type": "code",
   "execution_count": 68,
   "id": "53008c6d-8098-44ec-a272-d56a2368a73c",
   "metadata": {},
   "outputs": [
    {
     "name": "stdout",
     "output_type": "stream",
     "text": [
      "[[ 1  2  3  4  5]\n",
      " [ 6  7  8  9 10]\n",
      " [11 12 13 14 15]\n",
      " [16 17 18 19 20]\n",
      " [21 22 23 24 25]\n",
      " [26 27 28 29 30]] \n",
      "\n",
      "[[11 12]\n",
      " [16 17]] \n",
      "\n",
      "[ 2  8 14 20] \n",
      "\n",
      "[[ 4  5]\n",
      " [24 25]\n",
      " [29 30]] \n",
      "\n",
      "[[ 4  5]\n",
      " [24 25]\n",
      " [29 30]]\n"
     ]
    }
   ],
   "source": [
    "a = np.array([[1,2,3,4,5],[6,7,8,9,10],[11,12,13,14,15],[16,17,18,19,20],[21,22,23,24,25],[26,27,28,29,30]])\n",
    "print(a,'\\n')\n",
    "\n",
    "# print[[11 12]\n",
    "    # [16 17]] \n",
    "print(a[2:4,0:2],'\\n')\n",
    "\n",
    "\n",
    "# print[ 2  8 14 20] \n",
    "print(a[[0,1,2,3],[1,2,3,4]],'\\n')\n",
    "\n",
    "# print[[ 4  5]\n",
    "      #[24 25]\n",
    "     #[29 30]]\n",
    "\n",
    "b=a[4:6,3:5]\n",
    "c=a[0,3:5]\n",
    "print(np.vstack((c,b)),'\\n') \n",
    "\n",
    "# or we can do\n",
    "print(a[[0,4,5],3:])"
   ]
  },
  {
   "cell_type": "code",
   "execution_count": null,
   "id": "6201e5b0-5e6a-4bf2-a901-56225dd67018",
   "metadata": {},
   "outputs": [],
   "source": []
  }
 ],
 "metadata": {
  "kernelspec": {
   "display_name": "Python 3 (ipykernel)",
   "language": "python",
   "name": "python3"
  },
  "language_info": {
   "codemirror_mode": {
    "name": "ipython",
    "version": 3
   },
   "file_extension": ".py",
   "mimetype": "text/x-python",
   "name": "python",
   "nbconvert_exporter": "python",
   "pygments_lexer": "ipython3",
   "version": "3.12.7"
  }
 },
 "nbformat": 4,
 "nbformat_minor": 5
}
