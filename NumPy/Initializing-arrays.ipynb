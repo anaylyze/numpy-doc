{
 "cells": [
  {
   "cell_type": "code",
   "execution_count": 22,
   "id": "c070e186-3113-4a4e-b333-f00a1742ba8b",
   "metadata": {},
   "outputs": [
    {
     "data": {
      "text/plain": [
       "array([[0., 0., 0.],\n",
       "       [0., 0., 0.]])"
      ]
     },
     "execution_count": 22,
     "metadata": {},
     "output_type": "execute_result"
    }
   ],
   "source": [
    "import numpy as np\n",
    "\n",
    "# all 0s matrix\n",
    "np.zeros((2,3))"
   ]
  },
  {
   "cell_type": "code",
   "execution_count": 32,
   "id": "27a3ed4b-1f76-4a72-8221-adc09f7da339",
   "metadata": {},
   "outputs": [
    {
     "data": {
      "text/plain": [
       "array([[[1, 1, 1],\n",
       "        [1, 1, 1],\n",
       "        [1, 1, 1],\n",
       "        [1, 1, 1]],\n",
       "\n",
       "       [[1, 1, 1],\n",
       "        [1, 1, 1],\n",
       "        [1, 1, 1],\n",
       "        [1, 1, 1]]])"
      ]
     },
     "execution_count": 32,
     "metadata": {},
     "output_type": "execute_result"
    }
   ],
   "source": [
    "# all 1s matrix\n",
    "np.ones((2,4,3), dtype='int32')"
   ]
  },
  {
   "cell_type": "code",
   "execution_count": 42,
   "id": "2e8f7775-9ab6-44d9-96c4-e5dbce8db018",
   "metadata": {},
   "outputs": [
    {
     "data": {
      "text/plain": [
       "array([[69., 69., 69., 69., 69.],\n",
       "       [69., 69., 69., 69., 69.]], dtype=float16)"
      ]
     },
     "execution_count": 42,
     "metadata": {},
     "output_type": "execute_result"
    }
   ],
   "source": [
    "# any other number\n",
    "np.full((2,5), 69, dtype = 'float16')"
   ]
  },
  {
   "cell_type": "code",
   "execution_count": 58,
   "id": "8cb41dbb-4ffe-4825-9976-71754b76b0b6",
   "metadata": {},
   "outputs": [
    {
     "name": "stdout",
     "output_type": "stream",
     "text": [
      "[[88 88 88 88 88]\n",
      " [88 88 88 88 88]]\n",
      "[[78 78 78 78 78]\n",
      " [78 78 78 78 78]]\n"
     ]
    }
   ],
   "source": [
    "# full_like method --> allows us to use an already built array\n",
    "z = np.array([[1,2,3,4,5],[6,7,8,9,10]])\n",
    "\n",
    "\n",
    "print(np.full_like(z,88))\n",
    "# or we could do\n",
    "print(np.full(z.shape,78))"
   ]
  },
  {
   "cell_type": "code",
   "execution_count": 70,
   "id": "454264e0-a492-4145-866f-108de6b361c3",
   "metadata": {},
   "outputs": [
    {
     "name": "stdout",
     "output_type": "stream",
     "text": [
      "[[0.90474988 0.11192109]\n",
      " [0.16926732 0.87647558]\n",
      " [0.89432089 0.37345074]\n",
      " [0.37141963 0.5053858 ]]\n",
      "\n",
      "\n",
      "[[0.64432577 0.07292218 0.17618793 0.75815763 0.63361817]\n",
      " [0.20867355 0.3242868  0.68830588 0.61743273 0.67438728]]\n"
     ]
    }
   ],
   "source": [
    "# Random decimal numbers\n",
    "\n",
    "print(np.random.rand(4,2))\n",
    "\n",
    "# OR\n",
    "\n",
    "print('\\n')\n",
    "\n",
    "print(np.random.random_sample(z.shape))"
   ]
  },
  {
   "cell_type": "code",
   "execution_count": 110,
   "id": "6b8d16b4-acc2-4129-aecd-8b164bc9007e",
   "metadata": {},
   "outputs": [
    {
     "name": "stdout",
     "output_type": "stream",
     "text": [
      "[[3 5 5]\n",
      " [2 2 3]\n",
      " [5 5 3]]\n",
      "\n",
      "\n",
      "[[[-1  4]\n",
      "  [ 0 -4]\n",
      "  [-1 -3]]\n",
      "\n",
      " [[ 4  3]\n",
      "  [-6  0]\n",
      "  [-4 -2]]\n",
      "\n",
      " [[-1  2]\n",
      "  [ 1 -1]\n",
      "  [-4  3]]\n",
      "\n",
      " [[ 0 -2]\n",
      "  [-4 -3]\n",
      "  [-5  4]]]\n"
     ]
    }
   ],
   "source": [
    "# Random Integer values\n",
    "\n",
    "# for this we have to mention the start value(inclusive) and end value(exclusive), are the no.s jinke beech mei array k element no.s exist karenge\n",
    "# and also mention the size of array\n",
    "\n",
    "print(np.random.randint(2,6, size=(3,3)))\n",
    "print('\\n')\n",
    "print(np.random.randint(-6,5, size=(4,3,2)))"
   ]
  },
  {
   "cell_type": "code",
   "execution_count": 116,
   "id": "7afdc5b5-d372-409b-8ca7-447dce7e0cb9",
   "metadata": {},
   "outputs": [
    {
     "data": {
      "text/plain": [
       "array([[1., 0., 0.],\n",
       "       [0., 1., 0.],\n",
       "       [0., 0., 1.]])"
      ]
     },
     "execution_count": 116,
     "metadata": {},
     "output_type": "execute_result"
    }
   ],
   "source": [
    "# identity matrix\n",
    "np.identity(3)"
   ]
  },
  {
   "cell_type": "code",
   "execution_count": 12,
   "id": "e071ffd8-2d02-437f-aeff-8675387a2c60",
   "metadata": {},
   "outputs": [
    {
     "name": "stdout",
     "output_type": "stream",
     "text": [
      "[[1 2 3]\n",
      " [1 2 3]\n",
      " [1 2 3]\n",
      " [1 2 3]\n",
      " [1 2 3]]\n"
     ]
    }
   ],
   "source": [
    "import numpy as np\n",
    "# repeating elements in an array\n",
    "arr = np.array([[1,2,3]])\n",
    "r1 = np.repeat(arr,5,axis=0) #(kisko repeat karna h, kitni times repeat karna hai, and konsi axis pe repeat karna hai)\n",
    "print(r1)"
   ]
  },
  {
   "cell_type": "code",
   "execution_count": 142,
   "id": "ed09ff08-16b5-4a9e-894d-70120465d8ea",
   "metadata": {},
   "outputs": [
    {
     "name": "stdout",
     "output_type": "stream",
     "text": [
      "[[1 1 1 1 1]\n",
      " [1 1 1 1 1]\n",
      " [1 1 1 1 1]\n",
      " [1 1 1 1 1]\n",
      " [1 1 1 1 1]]\n",
      "[[0 0 0]\n",
      " [0 9 0]\n",
      " [0 0 0]]\n",
      "[[1 1 1 1 1]\n",
      " [1 0 0 0 1]\n",
      " [1 0 9 0 1]\n",
      " [1 0 0 0 1]\n",
      " [1 1 1 1 1]]\n"
     ]
    }
   ],
   "source": [
    "# problem \n",
    "output = np.ones((5,5),dtype = 'int32')\n",
    "print(output)\n",
    "\n",
    "z = np.zeros((3,3),dtype = 'int32')\n",
    "z[1,1] = 9\n",
    "print(z)\n",
    "\n",
    "output[1:4,1:4] = z\n",
    "print(output)"
   ]
  },
  {
   "cell_type": "code",
   "execution_count": 148,
   "id": "0867c40f-1cca-4b7e-8b4c-078e149f2129",
   "metadata": {},
   "outputs": [
    {
     "name": "stdout",
     "output_type": "stream",
     "text": [
      "[69  2  3]\n",
      "[1 2 3]\n"
     ]
    }
   ],
   "source": [
    " # for making the copy of an array\n",
    "w = np.array([1,2,3])\n",
    "x = w.copy()\n",
    "x[0] = 69\n",
    "print(x)\n",
    "print(w)\n",
    "#using the .copy keyword does not change the original array but aliasing the arrays, it would have manipulated the og array\n"
   ]
  },
  {
   "cell_type": "code",
   "execution_count": null,
   "id": "bf2bb198-1d29-409a-9bcd-e32b87f8337d",
   "metadata": {},
   "outputs": [],
   "source": []
  },
  {
   "cell_type": "code",
   "execution_count": null,
   "id": "079a1d61-0365-4e60-8217-3bcf556616d8",
   "metadata": {},
   "outputs": [],
   "source": []
  }
 ],
 "metadata": {
  "kernelspec": {
   "display_name": "Python 3 (ipykernel)",
   "language": "python",
   "name": "python3"
  },
  "language_info": {
   "codemirror_mode": {
    "name": "ipython",
    "version": 3
   },
   "file_extension": ".py",
   "mimetype": "text/x-python",
   "name": "python",
   "nbconvert_exporter": "python",
   "pygments_lexer": "ipython3",
   "version": "3.12.7"
  }
 },
 "nbformat": 4,
 "nbformat_minor": 5
}
