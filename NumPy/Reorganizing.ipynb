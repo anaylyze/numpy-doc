{
 "cells": [
  {
   "cell_type": "code",
   "execution_count": 14,
   "id": "296a647b-9546-4087-8ea9-d7159441c949",
   "metadata": {},
   "outputs": [
    {
     "name": "stdout",
     "output_type": "stream",
     "text": [
      "[[1 2 3 4]\n",
      " [5 6 7 8]]\n",
      "[[1]\n",
      " [2]\n",
      " [3]\n",
      " [4]\n",
      " [5]\n",
      " [6]\n",
      " [7]\n",
      " [8]]\n",
      "[[[1 2]\n",
      "  [3 4]]\n",
      "\n",
      " [[5 6]\n",
      "  [7 8]]]\n"
     ]
    }
   ],
   "source": [
    "import numpy as np\n",
    "\n",
    "before = np.array([[1,2,3,4],[5,6,7,8]])\n",
    "print(before)\n",
    "\n",
    "# we can change the shape of array but it should be same no. of elements like (2,4)->(4,2) or (8,1) or (2,2,2) but not (2,3) or (3,4)\n",
    "\n",
    "after = before.reshape((8,1))\n",
    "print(after)\n",
    "\n",
    "after1 = before.reshape((2,2,2))\n",
    "print(after1)"
   ]
  },
  {
   "cell_type": "code",
   "execution_count": 32,
   "id": "f08a7725-fe96-4695-ade5-b0b0ecf55717",
   "metadata": {},
   "outputs": [
    {
     "name": "stdout",
     "output_type": "stream",
     "text": [
      "[[1 2 3 4]\n",
      " [5 6 7 8]\n",
      " [1 2 3 4]\n",
      " [5 6 7 8]]\n"
     ]
    }
   ],
   "source": [
    "# Vertically stacking vectors\n",
    "\n",
    "a = np.array([1,2,3,4])\n",
    "b = np.array([5,6,7,8])\n",
    "\n",
    "# Vertically stacking can be used to form arrays but stacking on top of each other but also they should be of same shape\n",
    "\n",
    "print(np.vstack((a,b,a,b))) "
   ]
  },
  {
   "cell_type": "code",
   "execution_count": 44,
   "id": "7f200c63-9761-4d64-b022-90627e38f009",
   "metadata": {},
   "outputs": [
    {
     "data": {
      "text/plain": [
       "array([[0., 0., 0., 0., 1., 1., 0., 0., 0., 0., 1., 1.],\n",
       "       [0., 0., 0., 0., 1., 1., 0., 0., 0., 0., 1., 1.]])"
      ]
     },
     "execution_count": 44,
     "metadata": {},
     "output_type": "execute_result"
    }
   ],
   "source": [
    "# Horizontally stacking vectors\n",
    "# Similar to vstack\n",
    "\n",
    "c = np.zeros((2,4))\n",
    "d = np.ones((2,2))\n",
    "\n",
    "np.hstack((c,d,c,d))"
   ]
  },
  {
   "cell_type": "code",
   "execution_count": null,
   "id": "affb3747-7201-4eb0-9ddc-e556e372d7ad",
   "metadata": {},
   "outputs": [],
   "source": []
  }
 ],
 "metadata": {
  "kernelspec": {
   "display_name": "Python 3 (ipykernel)",
   "language": "python",
   "name": "python3"
  },
  "language_info": {
   "codemirror_mode": {
    "name": "ipython",
    "version": 3
   },
   "file_extension": ".py",
   "mimetype": "text/x-python",
   "name": "python",
   "nbconvert_exporter": "python",
   "pygments_lexer": "ipython3",
   "version": "3.12.7"
  }
 },
 "nbformat": 4,
 "nbformat_minor": 5
}
